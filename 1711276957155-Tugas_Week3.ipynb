{
  "nbformat": 4,
  "nbformat_minor": 0,
  "metadata": {
    "colab": {
      "provenance": []
    },
    "kernelspec": {
      "name": "python3",
      "display_name": "Python 3"
    },
    "language_info": {
      "name": "python"
    }
  },
  "cells": [
    {
      "cell_type": "markdown",
      "source": [
        "**KELOMPOK 12 :**\n",
        "1. Tiandra Rizkya\n",
        "2. Khidlira Arofat\n",
        "3. Ecclesiani\n",
        "4. Yuni Dwi A.\n",
        "5. Riski Syaputraa"
      ],
      "metadata": {
        "id": "A7O7ClwU1XZB"
      }
    },
    {
      "cell_type": "code",
      "source": [
        "pip install pandas"
      ],
      "metadata": {
        "id": "7tAbqezD1Vk0"
      },
      "execution_count": null,
      "outputs": []
    },
    {
      "cell_type": "code",
      "source": [
        "pip install numpy"
      ],
      "metadata": {
        "id": "WVIQpBWi1kaQ"
      },
      "execution_count": null,
      "outputs": []
    },
    {
      "cell_type": "code",
      "source": [
        "import pandas as pd\n",
        "import numpy as np"
      ],
      "metadata": {
        "id": "IQ4mTfXA1PUT"
      },
      "execution_count": 1,
      "outputs": []
    },
    {
      "cell_type": "markdown",
      "source": [
        "Buatlah class MarketingDataETL yang memiliki tiga metode:  \n",
        "\n",
        "\n",
        "*   extract(): akan membaca data dari sebuah file CSV (Misalkan, marketing_data.csv)\n",
        "*   transform(): akan melakukan pembersihan dan transformasi sederhana pada data (seperti mengubah format tanggal atau membersihkan nilai yang kosong)\n",
        "\n",
        "\n",
        "*   store(): akan menyimpan data yang telah ditransformasi ke dalam strukdur data DataFormat\n"
      ],
      "metadata": {
        "id": "uIv5iQj-2aUp"
      }
    },
    {
      "cell_type": "code",
      "source": [
        "class MarketingDataETL:\n",
        "    def __init__(self, file_name):\n",
        "        self.file_name = file_name\n",
        "\n",
        "    def extract(self):\n",
        "        # Extract data from CSV file\n",
        "        return pd.read_csv(self.fie_name)"
      ],
      "metadata": {
        "id": "vigOfc8J7U87"
      },
      "execution_count": 33,
      "outputs": []
    },
    {
      "cell_type": "code",
      "source": [
        "class MarketingDataETL:\n",
        "    def __init__(self, file_path):\n",
        "        self.file_path = file_path\n",
        "\n",
        "    def transform(self):\n",
        "        try:\n",
        "            data = pd.read_csv(self.file_path)\n",
        "        except FileNotFoundError:\n",
        "            print(\"File not found. Please provide the correct file path.\")\n",
        "            return None\n",
        "       # Contoh transformasi sederhana: mengubah kolom 'tanggal' menjadi format datetime\n",
        "        if 'tanggal' in data.columns:\n",
        "            data['tanggal'] = pd.to_datetime(data['tanggal'], errors='coerce')\n",
        "\n",
        "        # Menyimpan data yang telah ditransformasi ke dalam file baru\n",
        "        transformed_file_path = \"transformed_marketing_data.csv\"\n",
        "        data.to_csv(transformed_file_path, index=False)\n",
        "        print(f\"Transformed data saved to {transformed_file_path}\")\n",
        "        return transformed_file_path\n",
        "\n",
        "# Contoh penggunaan\n",
        "if __name__ == \"__main__\":\n",
        "    etl = MarketingDataETL(\"marketing_data.csv\")\n",
        "    transformed_file_path = etl.transform()\n"
      ],
      "metadata": {
        "colab": {
          "base_uri": "https://localhost:8080/"
        },
        "id": "AhtVDpTM3O72",
        "outputId": "1d050902-2dc5-4d78-ff56-79333432ee04"
      },
      "execution_count": 31,
      "outputs": [
        {
          "output_type": "stream",
          "name": "stdout",
          "text": [
            "Transformed data saved to transformed_marketing_data.csv\n"
          ]
        }
      ]
    },
    {
      "cell_type": "code",
      "source": [
        "def store(self, output_file):\n",
        "        if self.data is not None:\n",
        "            try:\n",
        "                # Menyimpan data yang telah ditransformasi ke dalam struktur DataFrame\n",
        "                self.data.to_csv(output_file, index=False)\n",
        "                print(\"Data berhasil disimpan di\", output_file)\n",
        "                self.analyze_target_group()  # Memanggil method analyze_target_group\n",
        "            except Exception as e:\n",
        "                print(\"Terjadi kesalahan saat menyimpan data:\", str(e))\n",
        "        else:\n",
        "            print(\"Data belum diekstrak dan ditransformasi. Lakukan ekstraksi dan transformasi terlebih dahulu.\")"
      ],
      "metadata": {
        "id": "S2UNFwVA-7t8"
      },
      "execution_count": 40,
      "outputs": []
    },
    {
      "cell_type": "markdown",
      "source": [
        "*   Gunakan inheritance untuk membuat class TargetedMarketingETL yang mewarisi dari MarketingDataETL\n",
        "*   Tambahkan metode segment_customers() yang mengelompokkan pelanggan berdasarkan kriteria tertentu (misalnya, pengeluaran total atau kategori produk yang dibeli).\n",
        "*   Demonstrasi polymorphism dengan meng-override metode transform() dalam TargetedMarketingETL untuk menambahkan logika segmentasi pelanggan ke dalam proses transformasi.\n"
      ],
      "metadata": {
        "id": "fkGxC8_i8Y1j"
      }
    },
    {
      "cell_type": "code",
      "source": [
        "class TargetedMarketingETL(MarketingDataETL):\n",
        "    def __init__(self, file_name, segment_column, segment_threshold):\n",
        "        super().__init__(file_name)\n",
        "        self.segment_column = segment_column\n",
        "        self.segment_threshold = segment_threshold\n",
        "\n",
        "    def segment_customers(self, data):\n",
        "        # Segment customers based on given criteria\n",
        "        data[self.segment_column + '_segment'] = data[self.segment_column] > self.segment_threshold\n",
        "        return data"
      ],
      "metadata": {
        "id": "9Lla8AJ54dPI"
      },
      "execution_count": 41,
      "outputs": []
    },
    {
      "cell_type": "code",
      "source": [
        "def transform(self, data):\n",
        "        # Transform data and segment customers\n",
        "        data = super().transform(data)\n",
        "        data = self.segment_customers(data)\n",
        "        return data"
      ],
      "metadata": {
        "id": "UU1l7Bpk_Lub"
      },
      "execution_count": 38,
      "outputs": []
    },
    {
      "cell_type": "code",
      "source": [
        "data = [\n",
        "    {'customer_id': 1, 'name': 'John', 'purchase_history': 1500},\n",
        "    {'customer_id': 2, 'name': 'Jane', 'purchase_history': 700},\n",
        "    {'customer_id': 3, 'name': 'Doe', 'purchase_history': 300}\n",
        "]\n",
        "\n",
        "etl_process = SegmentedTargetedMarketingETL(data)\n",
        "etl_process.transform()\n",
        "\n",
        "for row in etl_process.data:\n",
        "    print(row)"
      ],
      "metadata": {
        "id": "PmRJUmjPBuZd"
      },
      "execution_count": null,
      "outputs": []
    },
    {
      "cell_type": "code",
      "source": [
        "# Usage\n",
        "etl = TargetedMarketingETL('marketing_data.csv', 'total_spending', 100)\n",
        "data = etl.extract()\n",
        "transformed_data = etl.transform(data)\n",
        "etl.store(transformed_data)"
      ],
      "metadata": {
        "id": "UPBPAjvt_7CA"
      },
      "execution_count": null,
      "outputs": []
    }
  ]
}